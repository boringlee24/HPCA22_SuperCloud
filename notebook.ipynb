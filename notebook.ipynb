{
 "cells": [
  {
   "cell_type": "code",
   "execution_count": 1,
   "id": "boxed-yukon",
   "metadata": {},
   "outputs": [],
   "source": [
    "%matplotlib inline\n",
    "import pandas as pd\n",
    "import pdb\n",
    "import numpy as np\n",
    "import matplotlib as mpl\n",
    "import matplotlib.pyplot as plt\n",
    "from matplotlib.ticker import MultipleLocator\n",
    "from pathlib import Path\n",
    "from collections import Counter\n",
    "from util import *"
   ]
  },
  {
   "cell_type": "code",
   "execution_count": 2,
   "id": "conservative-malta",
   "metadata": {},
   "outputs": [],
   "source": [
    "home = str(Path.home())\n",
    "DATA_DIR = f'{home}/Downloads/datacenter-challenge'\n",
    "anon_dcgm_df = pd.read_csv(f'{DATA_DIR}/dcgm.csv')\n",
    "user_df = pd.read_csv(f'{DATA_DIR}/scheduler_data.csv')"
   ]
  },
  {
   "cell_type": "code",
   "execution_count": null,
   "id": "operating-communist",
   "metadata": {},
   "outputs": [],
   "source": [
    "gpu_avg_df=anon_dcgm_df.groupby('id_job').mean()\n",
    "#Add GPU count info and \"node list\"in gpu_avg_df\n",
    "hash_gpu_count=Counter(anon_dcgm_df['id_job']) #rename hash_gpu_count\n",
    "gpu_avg_df['GPU_Count']=0\n",
    "for job in gpu_avg_df.index:\n",
    "    gpu_avg_df.loc[job,'GPU_Count']=hash_gpu_count[job]\n",
    "gpu_avg_df['GPU_Range']=0\n",
    "for job in gpu_avg_df[gpu_avg_df['GPU_Count']==1].index:\n",
    "    gpu_avg_df.loc[job,'GPU_Range']='1 GPU'\n",
    "df1=gpu_avg_df[gpu_avg_df['GPU_Count']==2]\n",
    "for job in df1.index:\n",
    "    gpu_avg_df.loc[job,'GPU_Range']='2 GPU'\n",
    "df1=gpu_avg_df[gpu_avg_df['GPU_Count']>2]\n",
    "df5_8=df1[df1['GPU_Count']<9]\n",
    "for job in df5_8.index:\n",
    "    gpu_avg_df.loc[job,'GPU_Range']='3-8 GPU'\n",
    "df1=gpu_avg_df[gpu_avg_df['GPU_Count']>8]\n",
    "for job in df1.index:\n",
    "    gpu_avg_df.loc[job,'GPU_Range']='>8 GPU'\n",
    "grouped_node_df=anon_dcgm_df[['Node','id_job']].groupby('id_job').agg({'Node':lambda x: ' '.join(x)})\n",
    "grouped_node_df.columns=['Node_List']\n",
    "gpu_avg_df=gpu_avg_df.join(grouped_node_df,how='inner')\n",
    "gpu_avg_df['Num_node']=gpu_avg_df['Node_List'].str.split(' ').apply(lambda x: len(set(x)))"
   ]
  },
  {
   "cell_type": "markdown",
   "id": "compound-piano",
   "metadata": {},
   "source": [
    "# Generate empirical CDF of GPU utilizations"
   ]
  },
  {
   "cell_type": "code",
   "execution_count": null,
   "id": "million-colon",
   "metadata": {},
   "outputs": [],
   "source": [
    "gpu_join = gpu_avg_df[gpu_avg_df.totalexecutiontime_sec>30]\n",
    "plot_cdf_utilization(gpu_join)"
   ]
  },
  {
   "cell_type": "markdown",
   "id": "individual-criterion",
   "metadata": {},
   "source": [
    "# Merge scheduler data and node data"
   ]
  },
  {
   "cell_type": "code",
   "execution_count": null,
   "id": "respective-tomato",
   "metadata": {},
   "outputs": [],
   "source": [
    "user_df['run_time_from_user_df']=user_df['time_end']-user_df['time_start']\n",
    "\n",
    "#user_df has been renamed to user_df_no_dup. be careful of its usage later\n",
    "if (user_df.shape[0]!=len(user_df['id_job'].unique())): #if there are duplicates\n",
    "    tmp_df=user_df[user_df['id_job'].duplicated(keep=False)][['id_job', 'derived_ec', 'state']] #may need to rewrite for 2021-IAP. it doesnt have these columns\n",
    "    idx_to_drop=tmp_df.index[tmp_df['state']!=3]\n",
    "    user_df_no_dup=user_df.drop(idx_to_drop)\n",
    "    assert (user_df_no_dup.shape[0]==len(user_df_no_dup['id_job'].unique())) #all unique now\n",
    "else:\n",
    "    user_df_no_dup=user_df\n",
    "\n",
    "user_df_no_dup=user_df_no_dup.set_index('id_job')\n",
    "gpu_user_join=gpu_avg_df.join(user_df_no_dup,how='inner')\n",
    "gpu_user_join_rm_small_runtime=gpu_user_join[gpu_user_join.totalexecutiontime_sec>30]\n",
    "gpu_user_join_rm_small_runtime['wait_time']=gpu_user_join_rm_small_runtime['time_start']-gpu_user_join_rm_small_runtime['time_submit']"
   ]
  },
  {
   "cell_type": "markdown",
   "id": "willing-geneva",
   "metadata": {},
   "source": [
    "# GPU Utilization of different types of jobs"
   ]
  },
  {
   "cell_type": "code",
   "execution_count": null,
   "id": "polished-milwaukee",
   "metadata": {},
   "outputs": [],
   "source": [
    "plot_cdf_types(gpu_user_join_rm_small_runtime)"
   ]
  }
 ],
 "metadata": {
  "kernelspec": {
   "display_name": "Python 3",
   "language": "python",
   "name": "python3"
  },
  "language_info": {
   "codemirror_mode": {
    "name": "ipython",
    "version": 3
   },
   "file_extension": ".py",
   "mimetype": "text/x-python",
   "name": "python",
   "nbconvert_exporter": "python",
   "pygments_lexer": "ipython3",
   "version": "3.7.9"
  }
 },
 "nbformat": 4,
 "nbformat_minor": 5
}
